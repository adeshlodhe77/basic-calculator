{
 "cells": [
  {
   "cell_type": "code",
   "execution_count": 1,
   "id": "e61dd49f",
   "metadata": {},
   "outputs": [
    {
     "name": "stdout",
     "output_type": "stream",
     "text": [
      "plz select option \n",
      "1.addition\n",
      "2.subtraction\n",
      "3.multiplication\n",
      "4.division\n",
      "enter your choice1\n",
      "plz enter first number34.4\n",
      "plz enter second number56.6\n",
      "your ans is : 91.0\n"
     ]
    }
   ],
   "source": [
    "def add(a,b):\n",
    "    return a+b\n",
    "def sub(a,b):\n",
    "    return a-b\n",
    "def mul(a,b):\n",
    "    return a*b\n",
    "def div(a,b):\n",
    "    return a/b\n",
    "\n",
    "print(\"plz select option \")\n",
    "print(\"1.addition\")\n",
    "print(\"2.subtraction\")\n",
    "print(\"3.multiplication\")\n",
    "print(\"4.division\")\n",
    "\n",
    "choice=int(input(\"enter your choice\"))\n",
    "num1=float(input(\"plz enter first number\"))\n",
    "num2=float(input(\"plz enter second number\"))\n",
    "\n",
    "if choice==1:\n",
    "    dt=add(num1 , num2)\n",
    "    print(\"your ans is :\",dt)\n",
    "    \n",
    "elif choice==2:\n",
    "    dt=sub(num1 , num2)\n",
    "    print(\"your ans is :\", dt)\n",
    "    \n",
    "elif choice==3:\n",
    "    dt=mul(num1 , num2)\n",
    "    print(\"your ans is :\",dt)\n",
    "    \n",
    "elif choice==4:\n",
    "    dt=div(num1 , num2)\n",
    "    print(\"your ans is :\", dt)\n",
    "    \n",
    "else:\n",
    "    print(\"you entered invalid num\")"
   ]
  },
  {
   "cell_type": "code",
   "execution_count": null,
   "id": "2f618585",
   "metadata": {},
   "outputs": [],
   "source": []
  }
 ],
 "metadata": {
  "kernelspec": {
   "display_name": "Python 3 (ipykernel)",
   "language": "python",
   "name": "python3"
  },
  "language_info": {
   "codemirror_mode": {
    "name": "ipython",
    "version": 3
   },
   "file_extension": ".py",
   "mimetype": "text/x-python",
   "name": "python",
   "nbconvert_exporter": "python",
   "pygments_lexer": "ipython3",
   "version": "3.9.13"
  }
 },
 "nbformat": 4,
 "nbformat_minor": 5
}
